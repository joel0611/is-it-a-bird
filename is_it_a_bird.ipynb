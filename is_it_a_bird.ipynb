{
 "cells": [
  {
   "cell_type": "code",
   "execution_count": 3,
   "id": "fed8c11f-7cee-4ac3-a633-3ecccf1945cb",
   "metadata": {},
   "outputs": [
    {
     "name": "stdout",
     "output_type": "stream",
     "text": [
      "Downloading images for category: forest\n",
      "Searching for 'forest photo'\n",
      "Searching for 'forest sun photo'\n",
      "Searching for 'forest shade photo'\n",
      "Downloading images for category: bird\n",
      "Searching for 'bird photo'\n",
      "Searching for 'bird sun photo'\n",
      "Searching for 'bird shade photo'\n"
     ]
    },
    {
     "data": {
      "text/html": [
       "\n",
       "<style>\n",
       "    /* Turns off some styling */\n",
       "    progress {\n",
       "        /* gets rid of default border in Firefox and Opera. */\n",
       "        border: none;\n",
       "        /* Needs to be in here for Safari polyfill so background images work as expected. */\n",
       "        background-size: auto;\n",
       "    }\n",
       "    progress:not([value]), progress:not([value])::-webkit-progress-bar {\n",
       "        background: repeating-linear-gradient(45deg, #7e7e7e, #7e7e7e 10px, #5c5c5c 10px, #5c5c5c 20px);\n",
       "    }\n",
       "    .progress-bar-interrupted, .progress-bar-interrupted::-webkit-progress-bar {\n",
       "        background: #F44336;\n",
       "    }\n",
       "</style>\n"
      ],
      "text/plain": [
       "<IPython.core.display.HTML object>"
      ]
     },
     "metadata": {},
     "output_type": "display_data"
    },
    {
     "data": {
      "text/html": [
       "<table border=\"1\" class=\"dataframe\">\n",
       "  <thead>\n",
       "    <tr style=\"text-align: left;\">\n",
       "      <th>epoch</th>\n",
       "      <th>train_loss</th>\n",
       "      <th>valid_loss</th>\n",
       "      <th>error_rate</th>\n",
       "      <th>time</th>\n",
       "    </tr>\n",
       "  </thead>\n",
       "  <tbody>\n",
       "    <tr>\n",
       "      <td>0</td>\n",
       "      <td>0.292947</td>\n",
       "      <td>0.000000</td>\n",
       "      <td>0.000000</td>\n",
       "      <td>00:56</td>\n",
       "    </tr>\n",
       "  </tbody>\n",
       "</table>"
      ],
      "text/plain": [
       "<IPython.core.display.HTML object>"
      ]
     },
     "metadata": {},
     "output_type": "display_data"
    },
    {
     "data": {
      "text/html": [
       "\n",
       "<style>\n",
       "    /* Turns off some styling */\n",
       "    progress {\n",
       "        /* gets rid of default border in Firefox and Opera. */\n",
       "        border: none;\n",
       "        /* Needs to be in here for Safari polyfill so background images work as expected. */\n",
       "        background-size: auto;\n",
       "    }\n",
       "    progress:not([value]), progress:not([value])::-webkit-progress-bar {\n",
       "        background: repeating-linear-gradient(45deg, #7e7e7e, #7e7e7e 10px, #5c5c5c 10px, #5c5c5c 20px);\n",
       "    }\n",
       "    .progress-bar-interrupted, .progress-bar-interrupted::-webkit-progress-bar {\n",
       "        background: #F44336;\n",
       "    }\n",
       "</style>\n"
      ],
      "text/plain": [
       "<IPython.core.display.HTML object>"
      ]
     },
     "metadata": {},
     "output_type": "display_data"
    },
    {
     "data": {
      "text/html": [
       "<table border=\"1\" class=\"dataframe\">\n",
       "  <thead>\n",
       "    <tr style=\"text-align: left;\">\n",
       "      <th>epoch</th>\n",
       "      <th>train_loss</th>\n",
       "      <th>valid_loss</th>\n",
       "      <th>error_rate</th>\n",
       "      <th>time</th>\n",
       "    </tr>\n",
       "  </thead>\n",
       "  <tbody>\n",
       "    <tr>\n",
       "      <td>0</td>\n",
       "      <td>0.000008</td>\n",
       "      <td>0.000000</td>\n",
       "      <td>0.000000</td>\n",
       "      <td>01:08</td>\n",
       "    </tr>\n",
       "    <tr>\n",
       "      <td>1</td>\n",
       "      <td>0.000062</td>\n",
       "      <td>0.000014</td>\n",
       "      <td>0.000000</td>\n",
       "      <td>01:07</td>\n",
       "    </tr>\n",
       "    <tr>\n",
       "      <td>2</td>\n",
       "      <td>0.000063</td>\n",
       "      <td>0.000000</td>\n",
       "      <td>0.000000</td>\n",
       "      <td>00:58</td>\n",
       "    </tr>\n",
       "  </tbody>\n",
       "</table>"
      ],
      "text/plain": [
       "<IPython.core.display.HTML object>"
      ]
     },
     "metadata": {},
     "output_type": "display_data"
    },
    {
     "name": "stdout",
     "output_type": "stream",
     "text": [
      "Searching for 'forest photos'\n"
     ]
    },
    {
     "data": {
      "text/html": [
       "\n",
       "<style>\n",
       "    /* Turns off some styling */\n",
       "    progress {\n",
       "        /* gets rid of default border in Firefox and Opera. */\n",
       "        border: none;\n",
       "        /* Needs to be in here for Safari polyfill so background images work as expected. */\n",
       "        background-size: auto;\n",
       "    }\n",
       "    progress:not([value]), progress:not([value])::-webkit-progress-bar {\n",
       "        background: repeating-linear-gradient(45deg, #7e7e7e, #7e7e7e 10px, #5c5c5c 10px, #5c5c5c 20px);\n",
       "    }\n",
       "    .progress-bar-interrupted, .progress-bar-interrupted::-webkit-progress-bar {\n",
       "        background: #F44336;\n",
       "    }\n",
       "</style>\n"
      ],
      "text/plain": [
       "<IPython.core.display.HTML object>"
      ]
     },
     "metadata": {},
     "output_type": "display_data"
    },
    {
     "data": {
      "text/html": [],
      "text/plain": [
       "<IPython.core.display.HTML object>"
      ]
     },
     "metadata": {},
     "output_type": "display_data"
    },
    {
     "name": "stdout",
     "output_type": "stream",
     "text": [
      "This is a: forest.\n",
      "Probability it's a bird: 0.0000\n"
     ]
    }
   ],
   "source": [
    "# Important libraries\n",
    "from fastai.vision.all import *\n",
    "from pathlib import Path\n",
    "from time import sleep\n",
    "from fastdownload import download_url\n",
    "from duckduckgo_search import DDGS\n",
    "from fastcore.all import *\n",
    "\n",
    "def search_images(term, max_images=30):\n",
    "    print(f\"Searching for '{term}'\")\n",
    "    with DDGS() as ddgs:\n",
    "        # generator which yields dicts with:\n",
    "        # {'title','image','thumbnail','url','height','width','source'}\n",
    "        search_results = ddgs.images(keywords=term)       \n",
    "        # grap number of max_images urls\n",
    "        image_urls = [next(iter(search_results)).get(\"image\") for _ in range(max_images)]\n",
    "        # convert to L (functionally extended list class from fastai)\n",
    "        return L(image_urls)\n",
    "\n",
    "#search categories\n",
    "searches = ('forest', 'bird')\n",
    "\n",
    "# Main folder\n",
    "path = Path('bird_or_not')\n",
    "\n",
    "\n",
    "# Search loop\n",
    "for category in searches:\n",
    "  # Forming sub-folder based on categories.\n",
    "  dest = path / category\n",
    "  dest.mkdir(exist_ok=True, parents=True)\n",
    "  print(f\"Downloading images for category: {category}\")\n",
    "  download_images(dest, urls=search_images(f'{category} photo'))\n",
    "  sleep(10)# Pause between searches to avoid over-loading server\n",
    "  download_images(dest, urls=search_images(f'{category} sun photo'))\n",
    "  sleep(10)\n",
    "  download_images(dest, urls=search_images(f'{category} shade photo'))\n",
    "  sleep(10)\n",
    "  resize_images(path/category, max_size=400, dest=path/category)\n",
    "\n",
    "failed = verify_images(get_image_files(path))\n",
    "failed.map(Path.unlink)#remove failed images\n",
    "\n",
    "# Prepare data for training\n",
    "dls = DataBlock(\n",
    "  blocks=(ImageBlock, CategoryBlock),\n",
    "  get_items=get_image_files, \n",
    "  splitter=RandomSplitter(valid_pct=0.2, seed=42),\n",
    "  get_y=parent_label,  \n",
    "  item_tfms=[Resize(192, method='squish')] \n",
    ").dataloaders(path, bs=32)\n",
    "\n",
    "# Create and fine-tune the image classification model\n",
    "learn = vision_learner(dls, resnet18, metrics=error_rate)\n",
    "learn.fine_tune(3)  \n",
    "\n",
    "# Make a prediction on a new image\n",
    "urls = search_images('forest photos', max_images=1)\n",
    "dest = 'forest.jpg'\n",
    "download_url(urls[0], dest, show_progress=False)\n",
    "im = Image.open(dest)\n",
    "im.to_thumb(256,256)\n",
    "is_bird, _, probs = learn.predict(PILImage.create(\"forest.jpg\"))\n",
    "print(f\"This is a: {is_bird}.\")\n",
    "print(f\"Probability it's a bird: {probs[0]:.4f}\")\n"
   ]
  },
  {
   "cell_type": "code",
   "execution_count": null,
   "id": "8b7660f6-a371-4e87-88b8-497bd33931eb",
   "metadata": {},
   "outputs": [],
   "source": []
  }
 ],
 "metadata": {
  "kernelspec": {
   "display_name": "Python 3 (ipykernel)",
   "language": "python",
   "name": "python3"
  },
  "language_info": {
   "codemirror_mode": {
    "name": "ipython",
    "version": 3
   },
   "file_extension": ".py",
   "mimetype": "text/x-python",
   "name": "python",
   "nbconvert_exporter": "python",
   "pygments_lexer": "ipython3",
   "version": "3.11.7"
  }
 },
 "nbformat": 4,
 "nbformat_minor": 5
}
